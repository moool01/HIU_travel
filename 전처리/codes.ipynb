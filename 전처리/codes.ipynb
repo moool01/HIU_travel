{
 "cells": [
  {
   "cell_type": "code",
   "execution_count": null,
   "id": "f4c123c3",
   "metadata": {},
   "outputs": [],
   "source": [
    "import json\n",
    "import pandas as pd\n",
    "\n",
    "# 1. JSON 파일 불러오기\n",
    "with open(\"your_file.json\", \"r\", encoding=\"utf-8\") as f:\n",
    "    data = json.load(f)  # 리스트 형태의 JSON 객체들\n",
    "\n",
    "# 2. 리스트형 필드 처리 (예: tags, sub_menus 등)\n",
    "for entry in data:\n",
    "    entry[\"tags\"] = \";\".join(entry.get(\"tags\", []))\n",
    "    entry[\"sub_menus\"] = \";\".join(entry.get(\"sub_menus\", []))\n",
    "\n",
    "# 3. DataFrame 변환 및 저장\n",
    "df = pd.DataFrame(data)\n",
    "df.to_csv(\"converted_places.csv\", index=False, encoding=\"utf-8-sig\")"
   ]
  }
 ],
 "metadata": {
  "kernelspec": {
   "display_name": "sl",
   "language": "python",
   "name": "python3"
  },
  "language_info": {
   "name": "python",
   "version": "3.10.15"
  }
 },
 "nbformat": 4,
 "nbformat_minor": 5
}
